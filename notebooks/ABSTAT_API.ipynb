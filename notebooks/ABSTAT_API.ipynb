{
 "cells": [
  {
   "cell_type": "code",
   "execution_count": 1,
   "metadata": {},
   "outputs": [],
   "source": [
    "import pandas as pd\n",
    "from post_processing import Return_JSON"
   ]
  },
  {
   "cell_type": "markdown",
   "metadata": {},
   "source": [
    "### Linguistic knowledge graph "
   ]
  },
  {
   "cell_type": "code",
   "execution_count": 2,
   "metadata": {},
   "outputs": [],
   "source": [
    "dbpedia_2016_10_infobox = '107dbfc4-0898-40fa-8e48-ab78992b0533'\n",
    "dbpedia_2015_10 = '2565587d-6b61-42e3-968e-765204c46254' \n",
    "dbpedia_2016_10 = '984d4b93-be2a-413a-bdfb-b6afde27a39b' \n",
    "basque_eurowordnet_lemon_lexicon_3_0 = 'e86cf524-86d9-4ee6-8341-4d01cb8c74db' \n",
    "Catalan_eurowordnet_lemon_lexicon_3_0 = 'ebe442fb-f97b-4ab3-aa74-b297bd60fa3e' \n",
    "dbpedia_spotlight_nif_ner_corpus = '3befa92c-02fd-4bfc-acb4-fd9f750afd79'\n",
    "galician_eurowordnet_lemon_lexicon_3_0 = '950e4d2d-6138-4ee0-a510-80a8130ec172' \n",
    "apertium_rdf_ca_it = 'b426dab6-1cdb-4151-b11a-72ed588e0d29' \n",
    "wordnet = '20968573-e642-4ef5-9d82-7684e02a1d47' \n",
    "wn_wiki_instances = 'b3f30198-2d8e-4379-a11f-639e3dce929b'\n",
    "asit_data = '55d3bf89-e9a1-4860-8812-bd446252bfec'\n",
    "Reuters_128 = '8484b3c8-6837-437f-8e5f-5e36cd18aa74' \n",
    "clld_sails_sources = '21661bf0-4dda-47ff-8184-e53025ff806f' \n",
    "SimpleEntries = 'a7ec9822-bc3b-4758-928f-887610a77e66'\n",
    "news_100_nif_ner_corpus = '669d05df-b120-4ef3-a2e1-3954a10d79ec'\n",
    "\n",
    "lemonwiktionary = '2fdfbd7b-90eb-447a-a0b1-75858da485dc'\n",
    "apertium_rdf_en_es = '2fa827d2-db71-4eba-a547-8befc75a4130'\n",
    "apertium_rdf_fr_ca = 'd65860db-3ab5-4913-b9e8-c46b1232464f'\n",
    "linked_hypernyms = 'f7ed05e1-12dd-4f62-b335-9282239d2f86'"
   ]
  },
  {
   "cell_type": "markdown",
   "metadata": {},
   "source": [
    "### COVID-19 knowledge graph"
   ]
  },
  {
   "cell_type": "code",
   "execution_count": 3,
   "metadata": {},
   "outputs": [],
   "source": [
    "drugbank = 'asd4drg5s-asg31-as85v-lmn2n-c4342se1'\n",
    "pro_sars2 = '5c372643-2186-45b7-9bdd-2f4c4eb700ce'\n",
    "COVID_19 = 'b7432d66-faf6-4009-bd6c-baa8fb8d9cfd'\n",
    "COVID_19_Schema = '7aa7a495-ebfd-4ac6-8347-eafbfa2147df'\n",
    "cord19_akg = '21c48812-a61f-4f7c-bd37-26493541f736'"
   ]
  },
  {
   "cell_type": "markdown",
   "metadata": {},
   "source": [
    "## Parameters"
   ]
  },
  {
   "cell_type": "code",
   "execution_count": 4,
   "metadata": {},
   "outputs": [],
   "source": [
    "stoplist_not_remove = True\n",
    "stoplist_put_to_bottom = True\n",
    "stoplist_remove = True"
   ]
  },
  {
   "cell_type": "code",
   "execution_count": 5,
   "metadata": {},
   "outputs": [],
   "source": [
    "json_object = Return_JSON.return_JSON(cord19_akg)"
   ]
  },
  {
   "cell_type": "code",
   "execution_count": 6,
   "metadata": {},
   "outputs": [
    {
     "data": {
      "text/plain": [
       "108"
      ]
     },
     "execution_count": 6,
     "metadata": {},
     "output_type": "execute_result"
    }
   ],
   "source": [
    "len(json_object['akps'])"
   ]
  },
  {
   "cell_type": "code",
   "execution_count": 7,
   "metadata": {},
   "outputs": [],
   "source": [
    "# json_object['akps'][0]"
   ]
  },
  {
   "cell_type": "code",
   "execution_count": 8,
   "metadata": {},
   "outputs": [
    {
     "data": {
      "text/html": [
       "<div>\n",
       "<style scoped>\n",
       "    .dataframe tbody tr th:only-of-type {\n",
       "        vertical-align: middle;\n",
       "    }\n",
       "\n",
       "    .dataframe tbody tr th {\n",
       "        vertical-align: top;\n",
       "    }\n",
       "\n",
       "    .dataframe thead th {\n",
       "        text-align: right;\n",
       "    }\n",
       "</style>\n",
       "<table border=\"1\" class=\"dataframe\">\n",
       "  <thead>\n",
       "    <tr style=\"text-align: right;\">\n",
       "      <th></th>\n",
       "      <th>type</th>\n",
       "      <th>subType</th>\n",
       "      <th>datasetOfOrigin</th>\n",
       "      <th>ontologiesOfOrigin</th>\n",
       "      <th>summary_conf</th>\n",
       "      <th>frequency</th>\n",
       "      <th>numberOfInstances</th>\n",
       "      <th>cardinality1</th>\n",
       "      <th>cardinality2</th>\n",
       "      <th>cardinality3</th>\n",
       "      <th>...</th>\n",
       "      <th>predictedCardinalityDirect</th>\n",
       "      <th>predictedCardinalityInverse</th>\n",
       "      <th>status</th>\n",
       "      <th>id</th>\n",
       "      <th>subject.globalURL</th>\n",
       "      <th>subject.frequency</th>\n",
       "      <th>predicate.globalURL</th>\n",
       "      <th>predicate.frequency</th>\n",
       "      <th>object.globalURL</th>\n",
       "      <th>object.frequency</th>\n",
       "    </tr>\n",
       "  </thead>\n",
       "  <tbody>\n",
       "    <tr>\n",
       "      <th>0</th>\n",
       "      <td>Object AKP</td>\n",
       "      <td>external</td>\n",
       "      <td>cord19-akg</td>\n",
       "      <td>[empty_ontology]</td>\n",
       "      <td>21c48812-a61f-4f7c-bd37-26493541f736</td>\n",
       "      <td>119053</td>\n",
       "      <td>119053</td>\n",
       "      <td>121</td>\n",
       "      <td>2</td>\n",
       "      <td>1</td>\n",
       "      <td>...</td>\n",
       "      <td>4</td>\n",
       "      <td>1</td>\n",
       "      <td>warning</td>\n",
       "      <td>10f78ecbc0f9bff92de541c2cc804188</td>\n",
       "      <td>http://www.arg.dundee.ac.uk/aif#I-node</td>\n",
       "      <td>119053.0</td>\n",
       "      <td>http://www.w3.org/ns/prov#wasQuotedFrom</td>\n",
       "      <td>119053</td>\n",
       "      <td>http://www.w3.org/2002/07/owl#Thing</td>\n",
       "      <td>NaN</td>\n",
       "    </tr>\n",
       "    <tr>\n",
       "      <th>1</th>\n",
       "      <td>Object AKP</td>\n",
       "      <td>external</td>\n",
       "      <td>cord19-akg</td>\n",
       "      <td>[empty_ontology]</td>\n",
       "      <td>21c48812-a61f-4f7c-bd37-26493541f736</td>\n",
       "      <td>89247</td>\n",
       "      <td>89247</td>\n",
       "      <td>20</td>\n",
       "      <td>1</td>\n",
       "      <td>1</td>\n",
       "      <td>...</td>\n",
       "      <td>2</td>\n",
       "      <td>2</td>\n",
       "      <td>warning</td>\n",
       "      <td>0f47de57e8e5d3daadb9a8e863a08b12</td>\n",
       "      <td>http://www.arg.dundee.ac.uk/aif#I-node</td>\n",
       "      <td>119053.0</td>\n",
       "      <td>http://rdfs.org/sioc/argument#supports</td>\n",
       "      <td>99949</td>\n",
       "      <td>http://www.arg.dundee.ac.uk/aif#I-node</td>\n",
       "      <td>119053.0</td>\n",
       "    </tr>\n",
       "    <tr>\n",
       "      <th>2</th>\n",
       "      <td>Object AKP</td>\n",
       "      <td>external</td>\n",
       "      <td>cord19-akg</td>\n",
       "      <td>[empty_ontology]</td>\n",
       "      <td>21c48812-a61f-4f7c-bd37-26493541f736</td>\n",
       "      <td>89247</td>\n",
       "      <td>89247</td>\n",
       "      <td>20</td>\n",
       "      <td>1</td>\n",
       "      <td>1</td>\n",
       "      <td>...</td>\n",
       "      <td>2</td>\n",
       "      <td>2</td>\n",
       "      <td>warning</td>\n",
       "      <td>73b4c34c86d528a2a3fff4aa1ed2f97d</td>\n",
       "      <td>http://www.arg.dundee.ac.uk/aif#I-node</td>\n",
       "      <td>119053.0</td>\n",
       "      <td>http://purl.org/spar/amo/proves</td>\n",
       "      <td>99949</td>\n",
       "      <td>http://www.arg.dundee.ac.uk/aif#I-node</td>\n",
       "      <td>119053.0</td>\n",
       "    </tr>\n",
       "    <tr>\n",
       "      <th>3</th>\n",
       "      <td>Object AKP</td>\n",
       "      <td>external</td>\n",
       "      <td>cord19-akg</td>\n",
       "      <td>[empty_ontology]</td>\n",
       "      <td>21c48812-a61f-4f7c-bd37-26493541f736</td>\n",
       "      <td>68013</td>\n",
       "      <td>68013</td>\n",
       "      <td>20</td>\n",
       "      <td>1</td>\n",
       "      <td>1</td>\n",
       "      <td>...</td>\n",
       "      <td>2</td>\n",
       "      <td>2</td>\n",
       "      <td>warning</td>\n",
       "      <td>ec731650423d19bf7233100a345e508c</td>\n",
       "      <td>http://www.arg.dundee.ac.uk/aif#I-node</td>\n",
       "      <td>119053.0</td>\n",
       "      <td>http://purl.org/spar/amo/proves</td>\n",
       "      <td>99949</td>\n",
       "      <td>http://purl.org/spar/amo/Claim</td>\n",
       "      <td>62442.0</td>\n",
       "    </tr>\n",
       "    <tr>\n",
       "      <th>4</th>\n",
       "      <td>Object AKP</td>\n",
       "      <td>external</td>\n",
       "      <td>cord19-akg</td>\n",
       "      <td>[empty_ontology]</td>\n",
       "      <td>21c48812-a61f-4f7c-bd37-26493541f736</td>\n",
       "      <td>68013</td>\n",
       "      <td>68013</td>\n",
       "      <td>20</td>\n",
       "      <td>1</td>\n",
       "      <td>1</td>\n",
       "      <td>...</td>\n",
       "      <td>2</td>\n",
       "      <td>2</td>\n",
       "      <td>warning</td>\n",
       "      <td>46c7a4de143fe70ad5e64791b593dee1</td>\n",
       "      <td>http://www.arg.dundee.ac.uk/aif#I-node</td>\n",
       "      <td>119053.0</td>\n",
       "      <td>http://purl.org/spar/amo/proves</td>\n",
       "      <td>99949</td>\n",
       "      <td>http://rdfs.org/sioc/argument#Idea</td>\n",
       "      <td>62442.0</td>\n",
       "    </tr>\n",
       "  </tbody>\n",
       "</table>\n",
       "<p>5 rows × 23 columns</p>\n",
       "</div>"
      ],
      "text/plain": [
       "         type   subType datasetOfOrigin ontologiesOfOrigin  \\\n",
       "0  Object AKP  external      cord19-akg   [empty_ontology]   \n",
       "1  Object AKP  external      cord19-akg   [empty_ontology]   \n",
       "2  Object AKP  external      cord19-akg   [empty_ontology]   \n",
       "3  Object AKP  external      cord19-akg   [empty_ontology]   \n",
       "4  Object AKP  external      cord19-akg   [empty_ontology]   \n",
       "\n",
       "                           summary_conf  frequency  numberOfInstances  \\\n",
       "0  21c48812-a61f-4f7c-bd37-26493541f736     119053             119053   \n",
       "1  21c48812-a61f-4f7c-bd37-26493541f736      89247              89247   \n",
       "2  21c48812-a61f-4f7c-bd37-26493541f736      89247              89247   \n",
       "3  21c48812-a61f-4f7c-bd37-26493541f736      68013              68013   \n",
       "4  21c48812-a61f-4f7c-bd37-26493541f736      68013              68013   \n",
       "\n",
       "   cardinality1  cardinality2  cardinality3  ...  predictedCardinalityDirect  \\\n",
       "0           121             2             1  ...                           4   \n",
       "1            20             1             1  ...                           2   \n",
       "2            20             1             1  ...                           2   \n",
       "3            20             1             1  ...                           2   \n",
       "4            20             1             1  ...                           2   \n",
       "\n",
       "   predictedCardinalityInverse   status                                id  \\\n",
       "0                            1  warning  10f78ecbc0f9bff92de541c2cc804188   \n",
       "1                            2  warning  0f47de57e8e5d3daadb9a8e863a08b12   \n",
       "2                            2  warning  73b4c34c86d528a2a3fff4aa1ed2f97d   \n",
       "3                            2  warning  ec731650423d19bf7233100a345e508c   \n",
       "4                            2  warning  46c7a4de143fe70ad5e64791b593dee1   \n",
       "\n",
       "                        subject.globalURL subject.frequency  \\\n",
       "0  http://www.arg.dundee.ac.uk/aif#I-node          119053.0   \n",
       "1  http://www.arg.dundee.ac.uk/aif#I-node          119053.0   \n",
       "2  http://www.arg.dundee.ac.uk/aif#I-node          119053.0   \n",
       "3  http://www.arg.dundee.ac.uk/aif#I-node          119053.0   \n",
       "4  http://www.arg.dundee.ac.uk/aif#I-node          119053.0   \n",
       "\n",
       "                       predicate.globalURL predicate.frequency  \\\n",
       "0  http://www.w3.org/ns/prov#wasQuotedFrom              119053   \n",
       "1   http://rdfs.org/sioc/argument#supports               99949   \n",
       "2          http://purl.org/spar/amo/proves               99949   \n",
       "3          http://purl.org/spar/amo/proves               99949   \n",
       "4          http://purl.org/spar/amo/proves               99949   \n",
       "\n",
       "                         object.globalURL object.frequency  \n",
       "0     http://www.w3.org/2002/07/owl#Thing              NaN  \n",
       "1  http://www.arg.dundee.ac.uk/aif#I-node         119053.0  \n",
       "2  http://www.arg.dundee.ac.uk/aif#I-node         119053.0  \n",
       "3          http://purl.org/spar/amo/Claim          62442.0  \n",
       "4      http://rdfs.org/sioc/argument#Idea          62442.0  \n",
       "\n",
       "[5 rows x 23 columns]"
      ]
     },
     "execution_count": 8,
     "metadata": {},
     "output_type": "execute_result"
    }
   ],
   "source": [
    "df_nested_list = pd.json_normalize(json_object, record_path =['akps'])\n",
    "df_nested_list.head(5)"
   ]
  },
  {
   "cell_type": "markdown",
   "metadata": {},
   "source": [
    "## For each KG, list out the uninteresting entities that have been used to filter the results"
   ]
  },
  {
   "cell_type": "code",
   "execution_count": 9,
   "metadata": {},
   "outputs": [],
   "source": [
    "from stop_item_list import stop_list"
   ]
  },
  {
   "cell_type": "code",
   "execution_count": 10,
   "metadata": {},
   "outputs": [],
   "source": [
    "values_lower = stop_list.stop_list_all()"
   ]
  },
  {
   "cell_type": "code",
   "execution_count": 11,
   "metadata": {},
   "outputs": [
    {
     "name": "stdout",
     "output_type": "stream",
     "text": [
      "http://www.w3.org/2002/07/owl#thing\n",
      "http://www.arg.dundee.ac.uk/aif#i-node\n",
      "http://www.w3.org/2000/01/rdf-schema#literal\n"
     ]
    }
   ],
   "source": [
    "df_nested_list = df_nested_list.apply(lambda x: x.astype(str).str.lower())\n",
    "\n",
    "check_repetition = []\n",
    "\n",
    "for i in range(0,len(values_lower),1):\n",
    "    row_sub,col_sub = df_nested_list[df_nested_list['subject.globalURL'].str.contains(values_lower[i])==True].shape\n",
    "    row_pre,col_pre = df_nested_list[df_nested_list['predicate.globalURL'].str.contains(values_lower[i])==True].shape\n",
    "    row_obj,col_obj = df_nested_list[df_nested_list['object.globalURL'].str.contains(values_lower[i])==True].shape\n",
    "    if row_sub>0: \n",
    "        if values_lower[i] not in check_repetition:\n",
    "            print(values_lower[i])\n",
    "            check_repetition.append(values_lower[i])\n",
    "            \n",
    "    if row_pre>0:\n",
    "        if values_lower[i] not in check_repetition:\n",
    "            print(values_lower[i])\n",
    "            check_repetition.append(values_lower[i])\n",
    "            \n",
    "    if row_obj>0:\n",
    "        if values_lower[i] not in check_repetition:\n",
    "            print(values_lower[i])\n",
    "            check_repetition.append(values_lower[i])"
   ]
  },
  {
   "cell_type": "markdown",
   "metadata": {},
   "source": [
    "## Top 10 patterns before post-processing"
   ]
  },
  {
   "cell_type": "markdown",
   "metadata": {},
   "source": [
    "## stoplist not remove"
   ]
  },
  {
   "cell_type": "code",
   "execution_count": 12,
   "metadata": {},
   "outputs": [
    {
     "name": "stdout",
     "output_type": "stream",
     "text": [
      "http://www.arg.dundee.ac.uk/aif#i-node - 119053.0\n",
      "http://www.w3.org/ns/prov#wasquotedfrom - 119053\n",
      "http://www.w3.org/2002/07/owl#thing - nan\n",
      "\n",
      "\n",
      "http://www.arg.dundee.ac.uk/aif#i-node - 119053.0\n",
      "http://rdfs.org/sioc/argument#supports - 99949\n",
      "http://www.arg.dundee.ac.uk/aif#i-node - 119053.0\n",
      "\n",
      "\n",
      "http://www.arg.dundee.ac.uk/aif#i-node - 119053.0\n",
      "http://purl.org/spar/amo/proves - 99949\n",
      "http://www.arg.dundee.ac.uk/aif#i-node - 119053.0\n",
      "\n",
      "\n",
      "http://www.arg.dundee.ac.uk/aif#i-node - 119053.0\n",
      "http://purl.org/spar/amo/proves - 99949\n",
      "http://purl.org/spar/amo/claim - 62442.0\n",
      "\n",
      "\n",
      "http://www.arg.dundee.ac.uk/aif#i-node - 119053.0\n",
      "http://purl.org/spar/amo/proves - 99949\n",
      "http://rdfs.org/sioc/argument#idea - 62442.0\n",
      "\n",
      "\n",
      "http://www.arg.dundee.ac.uk/aif#i-node - 119053.0\n",
      "http://rdfs.org/sioc/argument#supports - 99949\n",
      "http://rdfs.org/sioc/argument#idea - 62442.0\n",
      "\n",
      "\n",
      "http://www.arg.dundee.ac.uk/aif#i-node - 119053.0\n",
      "http://rdfs.org/sioc/argument#supports - 99949\n",
      "http://www.arg.dundee.ac.uk/aif#knowledgeposition_statement - 62442.0\n",
      "\n",
      "\n",
      "http://www.arg.dundee.ac.uk/aif#i-node - 119053.0\n",
      "http://purl.org/spar/amo/proves - 99949\n",
      "http://www.arg.dundee.ac.uk/aif#knowledgeposition_statement - 62442.0\n",
      "\n",
      "\n",
      "http://www.arg.dundee.ac.uk/aif#i-node - 119053.0\n",
      "http://rdfs.org/sioc/argument#supports - 99949\n",
      "http://purl.org/spar/amo/claim - 62442.0\n",
      "\n",
      "\n",
      "http://purl.org/spar/amo/claim - 62442.0\n",
      "http://www.arg.dundee.ac.uk/aif#claimtext - 62442\n",
      "http://www.w3.org/2000/01/rdf-schema#literal - 119053.0\n",
      "\n",
      "\n"
     ]
    }
   ],
   "source": [
    "if stoplist_not_remove == True:\n",
    "\n",
    "    for i in range(0,10,1):\n",
    "        try:\n",
    "            print(str(df_nested_list['subject.globalURL'][i])+\" - \"+str(df_nested_list['subject.frequency'][i]))\n",
    "        except:\n",
    "            pass\n",
    "        try:\n",
    "            print(str(df_nested_list['predicate.globalURL'][i])+\" - \"+str(df_nested_list['predicate.frequency'][i]))\n",
    "        except:\n",
    "            pass\n",
    "        try:\n",
    "            print(str(df_nested_list['object.globalURL'][i])+\" - \"+str(df_nested_list['object.frequency'][i]))\n",
    "        except:\n",
    "            pass\n",
    "        print(\"\\n\")"
   ]
  },
  {
   "cell_type": "markdown",
   "metadata": {},
   "source": [
    "## Top 10 patterns after post-processing"
   ]
  },
  {
   "cell_type": "code",
   "execution_count": 13,
   "metadata": {},
   "outputs": [],
   "source": [
    "def filter_rows_by_values(df, col, values):\n",
    "    return df[~df[col].isin(values)]"
   ]
  },
  {
   "cell_type": "code",
   "execution_count": 16,
   "metadata": {},
   "outputs": [],
   "source": [
    "new_df = df_nested_list[['subject.globalURL','subject.frequency','predicate.globalURL','predicate.frequency','object.globalURL','object.frequency']]\n",
    "new_df = new_df.apply(lambda x: x.astype(str).str.lower())"
   ]
  },
  {
   "cell_type": "code",
   "execution_count": 17,
   "metadata": {},
   "outputs": [],
   "source": [
    "new_df = filter_rows_by_values(new_df, \"subject.globalURL\", values_lower)\n",
    "new_df = filter_rows_by_values(new_df, \"predicate.globalURL\", values_lower)\n",
    "new_df = filter_rows_by_values(new_df, \"object.globalURL\", values_lower)"
   ]
  },
  {
   "cell_type": "code",
   "execution_count": 18,
   "metadata": {},
   "outputs": [
    {
     "data": {
      "text/plain": [
       "(55, 6)"
      ]
     },
     "execution_count": 18,
     "metadata": {},
     "output_type": "execute_result"
    }
   ],
   "source": [
    "new_df_without_nan = new_df.dropna()\n",
    "new_df_without_nan = new_df_without_nan[new_df_without_nan['subject.frequency'].astype(str) != 'nan']\n",
    "new_df_without_nan = new_df_without_nan[new_df_without_nan['predicate.frequency'].astype(str) != 'nan']\n",
    "new_df_without_nan = new_df_without_nan[new_df_without_nan['object.frequency'].astype(str) != 'nan']\n",
    "new_df_without_nan.shape"
   ]
  },
  {
   "cell_type": "code",
   "execution_count": 20,
   "metadata": {},
   "outputs": [],
   "source": [
    "new_df_without_nan = new_df_without_nan.reset_index(drop=True)"
   ]
  },
  {
   "cell_type": "markdown",
   "metadata": {},
   "source": [
    "## stoplist remove"
   ]
  },
  {
   "cell_type": "code",
   "execution_count": 21,
   "metadata": {},
   "outputs": [
    {
     "name": "stdout",
     "output_type": "stream",
     "text": [
      "http://purl.org/spar/amo/argument - 44153.0\n",
      "http://purl.org/spar/amo/hasclaim - 62442\n",
      "http://www.arg.dundee.ac.uk/aif#knowledgeposition_statement - 62442.0\n",
      "\n",
      "\n",
      "http://purl.org/spar/amo/argument - 44153.0\n",
      "http://purl.org/spar/amo/hasclaim - 62442\n",
      "http://rdfs.org/sioc/argument#idea - 62442.0\n",
      "\n",
      "\n",
      "http://purl.org/spar/amo/argument - 44153.0\n",
      "http://purl.org/spar/amo/hasclaim - 62442\n",
      "http://purl.org/spar/amo/claim - 62442.0\n",
      "\n",
      "\n",
      "http://purl.org/spar/amo/argument - 44153.0\n",
      "http://purl.org/spar/amo/hasevidence - 56611\n",
      "http://purl.org/spar/amo/evidence - 56611.0\n",
      "\n",
      "\n",
      "http://purl.org/spar/amo/argument - 44153.0\n",
      "http://purl.org/spar/amo/hasevidence - 56611\n",
      "http://rdfs.org/sioc/argument#justification - 56611.0\n",
      "\n",
      "\n",
      "http://rdfs.org/sioc/argument#idea - 62442.0\n",
      "http://purl.org/spar/amo/proves - 99949\n",
      "http://purl.org/spar/amo/claim - 62442.0\n",
      "\n",
      "\n",
      "http://rdfs.org/sioc/argument#idea - 62442.0\n",
      "http://purl.org/spar/amo/proves - 99949\n",
      "http://rdfs.org/sioc/argument#idea - 62442.0\n",
      "\n",
      "\n",
      "http://www.arg.dundee.ac.uk/aif#knowledgeposition_statement - 62442.0\n",
      "http://purl.org/spar/amo/proves - 99949\n",
      "http://purl.org/spar/amo/claim - 62442.0\n",
      "\n",
      "\n",
      "http://www.arg.dundee.ac.uk/aif#knowledgeposition_statement - 62442.0\n",
      "http://purl.org/spar/amo/proves - 99949\n",
      "http://rdfs.org/sioc/argument#idea - 62442.0\n",
      "\n",
      "\n",
      "http://rdfs.org/sioc/argument#idea - 62442.0\n",
      "http://rdfs.org/sioc/argument#supports - 99949\n",
      "http://www.arg.dundee.ac.uk/aif#knowledgeposition_statement - 62442.0\n",
      "\n",
      "\n"
     ]
    }
   ],
   "source": [
    "if stoplist_remove == True:\n",
    "    \n",
    "    for j in range(0,10,1):\n",
    "        try:\n",
    "            print(str(new_df_without_nan['subject.globalURL'][j])+\" - \"+str(new_df_without_nan['subject.frequency'][j]))\n",
    "        except:\n",
    "            pass\n",
    "        try:\n",
    "            print(str(new_df_without_nan['predicate.globalURL'][j])+\" - \"+str(new_df_without_nan['predicate.frequency'][j]))\n",
    "        except:\n",
    "            pass\n",
    "        try:\n",
    "            print(str(new_df_without_nan['object.globalURL'][j])+\" - \"+str(new_df_without_nan['object.frequency'][j]))\n",
    "        except:\n",
    "            pass\n",
    "        print(\"\\n\")"
   ]
  },
  {
   "cell_type": "markdown",
   "metadata": {},
   "source": [
    "## stoplist put to bottom"
   ]
  },
  {
   "cell_type": "code",
   "execution_count": 22,
   "metadata": {},
   "outputs": [
    {
     "name": "stdout",
     "output_type": "stream",
     "text": [
      "http://purl.org/spar/amo/argument - 44153.0\n",
      "http://purl.org/spar/amo/hasclaim - 62442\n",
      "http://www.arg.dundee.ac.uk/aif#knowledgeposition_statement - 62442.0\n",
      "\n",
      "\n",
      "http://purl.org/spar/amo/argument - 44153.0\n",
      "http://purl.org/spar/amo/hasclaim - 62442\n",
      "http://rdfs.org/sioc/argument#idea - 62442.0\n",
      "\n",
      "\n",
      "http://purl.org/spar/amo/argument - 44153.0\n",
      "http://purl.org/spar/amo/hasclaim - 62442\n",
      "http://purl.org/spar/amo/claim - 62442.0\n",
      "\n",
      "\n",
      "http://purl.org/spar/amo/argument - 44153.0\n",
      "http://purl.org/spar/amo/hasevidence - 56611\n",
      "http://purl.org/spar/amo/evidence - 56611.0\n",
      "\n",
      "\n",
      "http://purl.org/spar/amo/argument - 44153.0\n",
      "http://purl.org/spar/amo/hasevidence - 56611\n",
      "http://rdfs.org/sioc/argument#justification - 56611.0\n",
      "\n",
      "\n",
      "http://rdfs.org/sioc/argument#idea - 62442.0\n",
      "http://purl.org/spar/amo/proves - 99949\n",
      "http://purl.org/spar/amo/claim - 62442.0\n",
      "\n",
      "\n",
      "http://rdfs.org/sioc/argument#idea - 62442.0\n",
      "http://purl.org/spar/amo/proves - 99949\n",
      "http://rdfs.org/sioc/argument#idea - 62442.0\n",
      "\n",
      "\n",
      "http://www.arg.dundee.ac.uk/aif#knowledgeposition_statement - 62442.0\n",
      "http://purl.org/spar/amo/proves - 99949\n",
      "http://purl.org/spar/amo/claim - 62442.0\n",
      "\n",
      "\n",
      "http://www.arg.dundee.ac.uk/aif#knowledgeposition_statement - 62442.0\n",
      "http://purl.org/spar/amo/proves - 99949\n",
      "http://rdfs.org/sioc/argument#idea - 62442.0\n",
      "\n",
      "\n",
      "http://rdfs.org/sioc/argument#idea - 62442.0\n",
      "http://rdfs.org/sioc/argument#supports - 99949\n",
      "http://www.arg.dundee.ac.uk/aif#knowledgeposition_statement - 62442.0\n",
      "\n",
      "\n",
      "http://www.arg.dundee.ac.uk/aif#i-node - 119053.0\n",
      "http://www.w3.org/ns/prov#wasquotedfrom - 119053\n",
      "http://www.w3.org/2002/07/owl#thing - nan\n",
      "\n",
      "\n",
      "http://www.arg.dundee.ac.uk/aif#i-node - 119053.0\n",
      "http://www.w3.org/ns/prov#wasquotedfrom - 119053\n",
      "http://www.w3.org/2002/07/owl#thing - nan\n",
      "\n",
      "\n",
      "http://www.arg.dundee.ac.uk/aif#knowledgeposition_statement - 62442.0\n",
      "http://www.arg.dundee.ac.uk/aif#claimtext - 62442\n",
      "http://www.w3.org/2000/01/rdf-schema#literal - 119053.0\n",
      "\n",
      "\n",
      "http://www.arg.dundee.ac.uk/aif#knowledgeposition_statement - 62442.0\n",
      "http://www.arg.dundee.ac.uk/aif#claimtext - 62442\n",
      "http://www.w3.org/2000/01/rdf-schema#literal - 119053.0\n",
      "\n",
      "\n",
      "http://rdfs.org/sioc/argument#idea - 62442.0\n",
      "http://www.w3.org/ns/prov#wasquotedfrom - 119053\n",
      "http://www.w3.org/2002/07/owl#thing - nan\n",
      "\n",
      "\n"
     ]
    }
   ],
   "source": [
    "if stoplist_put_to_bottom == True:\n",
    "\n",
    "#stoplist_remove\n",
    "\n",
    "    for j in range(0,10,1):\n",
    "        try:\n",
    "            print(str(new_df_without_nan['subject.globalURL'][j])+\" - \"+str(new_df_without_nan['subject.frequency'][j]))\n",
    "        except:\n",
    "            pass\n",
    "        try:\n",
    "            print(str(new_df_without_nan['predicate.globalURL'][j])+\" - \"+str(new_df_without_nan['predicate.frequency'][j]))\n",
    "        except:\n",
    "            pass\n",
    "        try:\n",
    "            print(str(new_df_without_nan['object.globalURL'][j])+\" - \"+str(new_df_without_nan['object.frequency'][j]))\n",
    "        except:\n",
    "            pass\n",
    "        print(\"\\n\")\n",
    "    \n",
    "# stoplist_put_to_bottom \n",
    "\n",
    "    for i in range(0,len(values_lower),1):\n",
    "        row_sub,col_sub = df_nested_list[df_nested_list['subject.globalURL'].str.contains(values_lower[i])==True].shape\n",
    "        row_pre,col_pre = df_nested_list[df_nested_list['predicate.globalURL'].str.contains(values_lower[i])==True].shape\n",
    "        row_obj,col_obj = df_nested_list[df_nested_list['object.globalURL'].str.contains(values_lower[i])==True].shape\n",
    "\n",
    "\n",
    "\n",
    "        if row_sub>0:\n",
    "            #print(values_lower[i])\n",
    "            print(str(df_nested_list['subject.globalURL'][i])+\" - \"+str(df_nested_list['subject.frequency'][i]))\n",
    "            print(str(df_nested_list['predicate.globalURL'][i])+\" - \"+str(df_nested_list['predicate.frequency'][i]))\n",
    "            print(str(df_nested_list['object.globalURL'][i])+\" - \"+str(df_nested_list['object.frequency'][i]))\n",
    "            print(\"\\n\")\n",
    "        if row_pre>0:\n",
    "            print(str(df_nested_list['subject.globalURL'][i])+\" - \"+str(df_nested_list['subject.frequency'][i]))\n",
    "            print(str(df_nested_list['predicate.globalURL'][i])+\" - \"+str(df_nested_list['predicate.frequency'][i]))\n",
    "            print(str(df_nested_list['object.globalURL'][i])+\" - \"+str(df_nested_list['object.frequency'][i]))\n",
    "            print(\"\\n\")\n",
    "        if row_obj>0:\n",
    "            print(str(df_nested_list['subject.globalURL'][i])+\" - \"+str(df_nested_list['subject.frequency'][i]))\n",
    "            print(str(df_nested_list['predicate.globalURL'][i])+\" - \"+str(df_nested_list['predicate.frequency'][i]))\n",
    "            print(str(df_nested_list['object.globalURL'][i])+\" - \"+str(df_nested_list['object.frequency'][i]))\n",
    "            print(\"\\n\")"
   ]
  },
  {
   "cell_type": "markdown",
   "metadata": {},
   "source": [
    "## Frequency count subject, predicate and object (after post-processing)"
   ]
  },
  {
   "cell_type": "code",
   "execution_count": 23,
   "metadata": {},
   "outputs": [
    {
     "data": {
      "text/plain": [
       "http://rdfs.org/sioc/argument#idea                             10\n",
       "http://www.arg.dundee.ac.uk/aif#knowledgeposition_statement    10\n",
       "http://purl.org/spar/amo/claim                                 10\n",
       "http://purl.org/spar/amo/evidence                              10\n",
       "http://rdfs.org/sioc/argument#justification                    10\n",
       "Name: subject.globalURL, dtype: int64"
      ]
     },
     "execution_count": 23,
     "metadata": {},
     "output_type": "execute_result"
    }
   ],
   "source": [
    "new_df_without_nan['subject.globalURL'].value_counts()[:5]"
   ]
  },
  {
   "cell_type": "code",
   "execution_count": 24,
   "metadata": {},
   "outputs": [
    {
     "data": {
      "text/plain": [
       "http://purl.org/spar/amo/proves           25\n",
       "http://rdfs.org/sioc/argument#supports    25\n",
       "http://purl.org/spar/amo/hasclaim          3\n",
       "http://purl.org/spar/amo/hasevidence       2\n",
       "Name: predicate.globalURL, dtype: int64"
      ]
     },
     "execution_count": 24,
     "metadata": {},
     "output_type": "execute_result"
    }
   ],
   "source": [
    "new_df_without_nan['predicate.globalURL'].value_counts()[:5]"
   ]
  },
  {
   "cell_type": "code",
   "execution_count": 25,
   "metadata": {},
   "outputs": [
    {
     "data": {
      "text/plain": [
       "http://www.arg.dundee.ac.uk/aif#knowledgeposition_statement    11\n",
       "http://rdfs.org/sioc/argument#idea                             11\n",
       "http://purl.org/spar/amo/claim                                 11\n",
       "http://purl.org/spar/amo/evidence                              11\n",
       "http://rdfs.org/sioc/argument#justification                    11\n",
       "Name: object.globalURL, dtype: int64"
      ]
     },
     "execution_count": 25,
     "metadata": {},
     "output_type": "execute_result"
    }
   ],
   "source": [
    "new_df_without_nan['object.globalURL'].value_counts()[:5]"
   ]
  },
  {
   "cell_type": "markdown",
   "metadata": {},
   "source": [
    "## Plot"
   ]
  },
  {
   "cell_type": "code",
   "execution_count": 26,
   "metadata": {},
   "outputs": [
    {
     "data": {
      "image/png": "[encoded data removed]",
      "text/plain": [
       "<Figure size 432x288 with 1 Axes>"
      ]
     },
     "metadata": {
      "needs_background": "light"
     },
     "output_type": "display_data"
    }
   ],
   "source": [
    "new_df['subject.globalURL'].value_counts()[:20]\n",
    "plot = new_df['subject.globalURL'].value_counts()[:10].plot(kind='barh')\n",
    "# fig = plot.get_figure()\n",
    "# fig.savefig(\"subject.png\")"
   ]
  },
  {
   "cell_type": "code",
   "execution_count": 27,
   "metadata": {},
   "outputs": [
    {
     "data": {
      "text/plain": [
       "<AxesSubplot:>"
      ]
     },
     "execution_count": 27,
     "metadata": {},
     "output_type": "execute_result"
    },
    {
     "data": {
      "image/png": "[encoded data removed]",
      "text/plain": [
       "<Figure size 432x288 with 1 Axes>"
      ]
     },
     "metadata": {
      "needs_background": "light"
     },
     "output_type": "display_data"
    }
   ],
   "source": [
    "new_df['predicate.globalURL'].value_counts()[:20]\n",
    "new_df['predicate.globalURL'].value_counts()[:10].plot(kind='barh')"
   ]
  },
  {
   "cell_type": "code",
   "execution_count": 28,
   "metadata": {},
   "outputs": [
    {
     "data": {
      "text/plain": [
       "<AxesSubplot:>"
      ]
     },
     "execution_count": 28,
     "metadata": {},
     "output_type": "execute_result"
    },
    {
     "data": {
      "image/png": "[encoded data removed]",
      "text/plain": [
       "<Figure size 432x288 with 1 Axes>"
      ]
     },
     "metadata": {
      "needs_background": "light"
     },
     "output_type": "display_data"
    }
   ],
   "source": [
    "new_df['object.globalURL'].value_counts()[:20]\n",
    "new_df['object.globalURL'].value_counts()[:10].plot(kind='barh')"
   ]
  },
  {
   "cell_type": "markdown",
   "metadata": {},
   "source": [
    "## Stop list count for Linguistic knowledge graph "
   ]
  },
  {
   "cell_type": "code",
   "execution_count": 29,
   "metadata": {},
   "outputs": [],
   "source": [
    "from stop_item_list import count_stop_list_linguistic"
   ]
  },
  {
   "cell_type": "code",
   "execution_count": 30,
   "metadata": {},
   "outputs": [],
   "source": [
    "count_stop_lingu = count_stop_list_linguistic.count_stop()"
   ]
  },
  {
   "cell_type": "code",
   "execution_count": 31,
   "metadata": {},
   "outputs": [
    {
     "name": "stdout",
     "output_type": "stream",
     "text": [
      "http://www.w3.org/2002/07/owl#thing ---- 12\n",
      "http://www.w3.org/2000/01/rdf-schema#label ---- 7\n",
      "http://www.w3.org/2001/xmlschema#string ---- 6\n",
      "http://www.w3.org/2000/01/rdf-schema#literal ---- 9\n",
      "http://www.w3.org/2002/07/owl#ontology ---- 3\n",
      "http://lemon-model.net/lemon#form ---- 3\n",
      "http://persistence.uni-leipzig.org/nlp2rdf/ontologies/nif-core#string ---- 2\n",
      "http://persistence.uni-leipzig.org/nlp2rdf/ontologies/nif-core#rfc5147string ---- 2\n",
      "http://persistence.uni-leipzig.org/nlp2rdf/ontologies/nif-core#endindex ---- 2\n",
      "http://persistence.uni-leipzig.org/nlp2rdf/ontologies/nif-core#beginindex ---- 2\n",
      "http://www.w3.org/2002/07/owl#clas ---- 1\n",
      "http://www.w3.org/2002/07/owl#namedindividual ---- 1\n",
      "http://persistence.uni-leipzig.org/nlp2rdf/ontologies/nif-core#stringhttp://www.w3.org/2002/07/owl#thing ---- 1\n"
     ]
    }
   ],
   "source": [
    "copy_check_lin = []\n",
    "for i in range(0,len(count_stop_lingu),1):\n",
    "    if count_stop_lingu[i] not in copy_check_lin:\n",
    "        print(count_stop_lingu[i] + \" ---- \" +str(count_stop_lingu.count(count_stop_lingu[i])))\n",
    "        copy_check_lin.append(count_stop_lingu[i])\n",
    "    else:\n",
    "        pass"
   ]
  },
  {
   "cell_type": "markdown",
   "metadata": {},
   "source": [
    "## Stop list count for COVID-19 knowledge graph "
   ]
  },
  {
   "cell_type": "code",
   "execution_count": 32,
   "metadata": {},
   "outputs": [],
   "source": [
    "from stop_item_list import count_stop_list_covid"
   ]
  },
  {
   "cell_type": "code",
   "execution_count": 33,
   "metadata": {},
   "outputs": [],
   "source": [
    "stop_list_covid = count_stop_list_covid.count_stop()"
   ]
  },
  {
   "cell_type": "code",
   "execution_count": 34,
   "metadata": {},
   "outputs": [
    {
     "name": "stdout",
     "output_type": "stream",
     "text": [
      "http://www.w3.org/2001/xmlschema#integer ---- 1\n",
      "http://www.w3.org/2002/07/owl#class ---- 2\n",
      "http://www.w3.org/2001/xmlschema#float ---- 1\n",
      "http://www.w3.org/2001/xmlschema#date ---- 1\n",
      "http://www.arg.dundee.ac.uk/aif#i-node ---- 1\n"
     ]
    }
   ],
   "source": [
    "copy_check_covid = []\n",
    "for i in range(0,len(stop_list_covid),1):\n",
    "    if stop_list_covid[i] not in copy_check_lin:\n",
    "        print(stop_list_covid[i] + \" ---- \" +str(stop_list_covid.count(stop_list_covid[i])))\n",
    "        copy_check_lin.append(stop_list_covid[i])"
   ]
  },
  {
   "cell_type": "code",
   "execution_count": null,
   "metadata": {},
   "outputs": [],
   "source": []
  }
 ],
 "metadata": {
  "kernelspec": {
   "display_name": "Python 3",
   "language": "python",
   "name": "python3"
  },
  "language_info": {
   "codemirror_mode": {
    "name": "ipython",
    "version": 3
   },
   "file_extension": ".py",
   "mimetype": "text/x-python",
   "name": "python",
   "nbconvert_exporter": "python",
   "pygments_lexer": "ipython3",
   "version": "3.7.6"
  }
 },
 "nbformat": 4,
 "nbformat_minor": 4
}
